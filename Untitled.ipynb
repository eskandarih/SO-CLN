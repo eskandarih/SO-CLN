{
 "cells": [
  {
   "cell_type": "code",
   "execution_count": 9,
   "id": "54950f11",
   "metadata": {},
   "outputs": [
    {
     "name": "stdout",
     "output_type": "stream",
     "text": [
      "       h1          h3  lambda_0  lambda_1  lambda_2  lambda_3  lambda_4  \\\n",
      "0     0.1    0.100000     640.0  0.002532  79.01012  0.008711  147.6204   \n",
      "1     0.1    0.268270     640.0  0.001995  79.73220  0.006807  148.9664   \n",
      "2     0.1    0.719686     640.0  0.001246  80.45439  0.004218  150.1397   \n",
      "3     0.1    1.930698     640.0  0.000703  80.81673  0.002370  150.7231   \n",
      "4     0.1    5.179475     640.0  0.000380  80.97645  0.001280  150.9798   \n",
      "..    ...         ...       ...       ...       ...       ...       ...   \n",
      "59  100.0    1.930698     640.0  0.000084  83.95132  0.000274  155.9801   \n",
      "60  100.0    5.179475     640.0  0.000087  84.14891  0.000285  156.3270   \n",
      "61  100.0   13.894950     640.0  0.000099  84.82925  0.000320  157.5300   \n",
      "62  100.0   37.275940     640.0  0.000163  89.69685  0.000505  165.7093   \n",
      "63  100.0  100.000000     640.0  0.000091  77.92314  0.000319  145.2759   \n",
      "\n",
      "    lambda_5  lambda_6  lambda_7   lambda_8      lambda_9   lambda_10         \n",
      "0   0.000164  138.8767  0.000020  4276.5410  3.992294e-04    510.0007    NaN  \n",
      "1   0.000133  137.2065  0.000017  4384.7750  3.066013e-04    513.2346    NaN  \n",
      "2   0.000085  136.2511  0.000012  1900.2180  3.811258e-04    628.0267    NaN  \n",
      "3   0.000049  136.2555  0.000007  1695.2720  2.303580e-04    666.8909    NaN  \n",
      "4   0.000027  136.1954  0.000004  2349.1850  9.895564e-05    593.4622    NaN  \n",
      "..       ...       ...       ...        ...           ...         ...    ...  \n",
      "59  0.000006  130.7857  0.000001   516.2514  3.081699e-05   1601.3450    NaN  \n",
      "60  0.000006  130.8579  0.000001   517.6208  3.165538e-05   1629.9290    NaN  \n",
      "61  0.000007  131.0221  0.000001   412.9906  5.473066e-06  11841.7500    NaN  \n",
      "62  0.000012  131.0132  0.000003   407.1118  1.330197e-06   1391.5560    NaN  \n",
      "63  0.000006  135.7983  0.000001   422.1244  6.984512e-07   1982.3280    NaN  \n",
      "\n",
      "[64 rows x 14 columns]\n"
     ]
    }
   ],
   "source": [
    "import pandas as pd\n",
    "import numpy as np\n",
    "import matplotlib.pyplot as plt\n",
    "\n",
    "df = pd.read_csv('SOCLNresults.csv')\n",
    "R0 = df[[\"h1\",\"h3\"]]"
   ]
  },
  {
   "cell_type": "code",
   "execution_count": 18,
   "id": "2cab32b6",
   "metadata": {},
   "outputs": [
    {
     "data": {
      "image/png": "[encoded data removed]",
      "text/plain": [
       "<Figure size 432x288 with 1 Axes>"
      ]
     },
     "metadata": {
      "needs_background": "light"
     },
     "output_type": "display_data"
    }
   ],
   "source": [
    "X, Y = np.meshgrid(df[\"h1\"],df[\"h3\"])\n",
    "Z = (1 - X/2 + X**5 + Y**3) * np.exp(-X**2 - Y**2)\n",
    "fig, ax = plt.subplots()\n",
    "ax.contourf(X, Y, Z)\n",
    "plt.show()"
   ]
  },
  {
   "cell_type": "code",
   "execution_count": null,
   "id": "b704f335",
   "metadata": {},
   "outputs": [],
   "source": []
  }
 ],
 "metadata": {
  "kernelspec": {
   "display_name": "Python 3 (ipykernel)",
   "language": "python",
   "name": "python3"
  },
  "language_info": {
   "codemirror_mode": {
    "name": "ipython",
    "version": 3
   },
   "file_extension": ".py",
   "mimetype": "text/x-python",
   "name": "python",
   "nbconvert_exporter": "python",
   "pygments_lexer": "ipython3",
   "version": "3.8.11"
  }
 },
 "nbformat": 4,
 "nbformat_minor": 5
}
